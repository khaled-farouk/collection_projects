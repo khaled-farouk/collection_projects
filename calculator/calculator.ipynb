{
 "cells": [
  {
   "cell_type": "code",
   "execution_count": 1,
   "metadata": {
    "collapsed": true
   },
   "outputs": [],
   "source": [
    "import math\n",
    "def calculator(*args):\n",
    "    \n",
    "    d= len(args)\n",
    "    f=1\n",
    "    df=args[0]\n",
    "\n",
    "    ii= input('enter the sign of operation')\n",
    "    if ii=='+':\n",
    "        return sum(args)\n",
    "    elif ii=='-':\n",
    "        ss=0\n",
    "        for i in range(d):\n",
    "            for o in range(1,d):\n",
    "                df=df-args[i+o]\n",
    "            return d\n",
    "    elif ii=='*':\n",
    "        for i in range(d):\n",
    "            f=f*args[i]\n",
    "        return f\n",
    "    elif ii=='/':\n",
    "       \n",
    "        for i in range(d):\n",
    "            for o in range(1,d):\n",
    "                df=df/args[i+o]\n",
    "            return df"
   ]
  },
  {
   "cell_type": "code",
   "execution_count": 4,
   "metadata": {},
   "outputs": [
    {
     "name": "stdout",
     "output_type": "stream",
     "text": [
      "enter the sign of operation*\n"
     ]
    },
    {
     "data": {
      "text/plain": [
       "5"
      ]
     },
     "execution_count": 4,
     "metadata": {},
     "output_type": "execute_result"
    }
   ],
   "source": [
    "calculator(1,5)"
   ]
  },
  {
   "cell_type": "code",
   "execution_count": null,
   "metadata": {
    "collapsed": true
   },
   "outputs": [],
   "source": []
  }
 ],
 "metadata": {
  "kernelspec": {
   "display_name": "Python 3",
   "language": "python",
   "name": "python3"
  },
  "language_info": {
   "codemirror_mode": {
    "name": "ipython",
    "version": 3
   },
   "file_extension": ".py",
   "mimetype": "text/x-python",
   "name": "python",
   "nbconvert_exporter": "python",
   "pygments_lexer": "ipython3",
   "version": "3.6.1"
  }
 },
 "nbformat": 4,
 "nbformat_minor": 2
}
